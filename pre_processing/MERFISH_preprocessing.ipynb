{
 "cells": [
  {
   "cell_type": "code",
   "execution_count": null,
   "id": "67fb677e-4853-47c1-a105-0329201e5301",
   "metadata": {},
   "outputs": [],
   "source": [
    "import os \n",
    "import re\n",
    "import ast\n",
    "import anndata as ad \n",
    "import numpy as np \n",
    "import pandas as pd\n",
    "import scanpy as sc\n",
    "import seaborn as sns\n",
    "from shapely.geometry import Polygon\n",
    "from tqdm import tqdm"
   ]
  },
  {
   "cell_type": "code",
   "execution_count": null,
   "id": "9c461451-9174-45bc-bf13-b729696ac352",
   "metadata": {},
   "outputs": [],
   "source": [
    "Z_SLICE = 4.5 # this is the middle slice of the z-stack "
   ]
  },
  {
   "cell_type": "code",
   "execution_count": null,
   "id": "2f665e07-01d3-4582-abb4-3ade98885910",
   "metadata": {},
   "outputs": [],
   "source": [
    "ddir = '/sbgenomics/project-files/HTAN-HTAPP/Merfish'"
   ]
  },
  {
   "cell_type": "code",
   "execution_count": null,
   "id": "3b919785-8639-407a-89bb-5058e0fe7a95",
   "metadata": {},
   "outputs": [],
   "source": [
    "def extract_cell_coords(adata, z_slice = Z_SLICE):\n",
    "    \n",
    "    x_centroid = []\n",
    "    y_centroid = []\n",
    "\n",
    "    # FIXME - there is almost certainly a better way to do this \n",
    "    for i,cell in adata.obs.iterrows():\n",
    "        \n",
    "        # find index of middle slice in z-stack \n",
    "        middle_slice_index = ast.literal_eval(cell['z_height']).index(Z_SLICE)\n",
    "    \n",
    "        # create x,y coords for the boundary of each cell in the middle z-slice \n",
    "        coords = list(zip(ast.literal_eval(cell['x_boundary'])[middle_slice_index][0],ast.literal_eval(cell['y_boundary'])[middle_slice_index][0]))\n",
    "    \n",
    "        # create a polygon based on the coordinates and extract the cell centroid \n",
    "        poly = Polygon(coords)\n",
    "        x_centroid.append(poly.centroid.x)\n",
    "        y_centroid.append(poly.centroid.y)\n",
    "    \n",
    "    # set min coordinates to zero for convenience and save as new cols in adata.obs \n",
    "    x_centroid = np.array(x_centroid)\n",
    "    y_centroid = np.array(y_centroid)\n",
    "    adata.obs['x_centroid'] = x_centroid - x_centroid.min()\n",
    "    adata.obs['y_centroid'] = y_centroid - y_centroid.min()\n",
    "\n",
    "    return adata"
   ]
  },
  {
   "cell_type": "code",
   "execution_count": null,
   "id": "b273bde2-1ebf-492a-ab69-6f22a3652496",
   "metadata": {},
   "outputs": [],
   "source": [
    "adatas_dict = {}\n",
    "for i,fh in tqdm(enumerate(os.listdir(ddir))):\n",
    "\n",
    "    # read anndata files, save in dict with sample name as key, extract cell coords \n",
    "    sample_id = re.split('_',fh)[0]\n",
    "    adatas_dict[sample_id] = ad.read_h5ad(os.path.join(ddir,fh))\n",
    "    adatas_dict[sample_id] = extract_cell_coords(adatas_dict[sample_id], z_slice = Z_SLICE)"
   ]
  }
 ],
 "metadata": {
  "kernelspec": {
   "display_name": "Python 3 (ipykernel)",
   "language": "python",
   "name": "python3"
  },
  "language_info": {
   "codemirror_mode": {
    "name": "ipython",
    "version": 3
   },
   "file_extension": ".py",
   "mimetype": "text/x-python",
   "name": "python",
   "nbconvert_exporter": "python",
   "pygments_lexer": "ipython3",
   "version": "3.11.6"
  }
 },
 "nbformat": 4,
 "nbformat_minor": 5
}
